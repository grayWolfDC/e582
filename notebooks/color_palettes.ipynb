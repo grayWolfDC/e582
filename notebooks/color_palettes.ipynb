{
 "cells": [
  {
   "cell_type": "code",
   "execution_count": null,
   "metadata": {
    "collapsed": true
   },
   "outputs": [],
   "source": [
    "import seaborn as sns\n",
    "from matplotlib import pyplot as plt"
   ]
  },
  {
   "cell_type": "code",
   "execution_count": null,
   "metadata": {
    "collapsed": true
   },
   "outputs": [],
   "source": [
    "from IPython.display import Image\n",
    "picwidth=900"
   ]
  },
  {
   "cell_type": "markdown",
   "metadata": {},
   "source": [
    "##cloud mask with discrete colormaps"
   ]
  },
  {
   "cell_type": "markdown",
   "metadata": {},
   "source": [
    "color is complicated: \n",
    "\n",
    "http://en.wikipedia.org/wiki/Primary_color and http://en.wikipedia.org/wiki/HSL_and_HSV"
   ]
  },
  {
   "cell_type": "markdown",
   "metadata": {},
   "source": [
    "This tutorial shows provides tools to select color palettes that have reasonable aesthetics and don't distort the data:\n",
    "\n",
    "http://stanford.edu/~mwaskom/software/seaborn/tutorial/color_palettes.html\n",
    "\n",
    "The cell below demos how to select palettes with specific characteristics"
   ]
  },
  {
   "cell_type": "code",
   "execution_count": null,
   "metadata": {
    "collapsed": false
   },
   "outputs": [],
   "source": [
    "from matplotlib import pyplot as plt\n",
    "import seaborn as sns\n",
    "plt.close('all')\n",
    "the_type='diverging'\n",
    "the_type='qualitative'\n",
    "#the_type='sequential\n",
    "out=sns.choose_colorbrewer_palette(the_type)"
   ]
  },
  {
   "cell_type": "markdown",
   "metadata": {},
   "source": [
    "And this notebook shows how to check the luminosity of particular colormaps\n",
    "\n",
    "https://jakevdp.github.io/blog/2014/10/16/how-bad-is-your-colormap/"
   ]
  },
  {
   "cell_type": "markdown",
   "metadata": {},
   "source": [
    "##Apply these colormaps to our cloudmask code"
   ]
  },
  {
   "cell_type": "code",
   "execution_count": null,
   "metadata": {
    "collapsed": false,
    "scrolled": true
   },
   "outputs": [],
   "source": [
    "Image('../cloudmask/plots/MYBRGB.A2014127.2110.005.2014128174940.jpg',width=picwidth)"
   ]
  },
  {
   "cell_type": "markdown",
   "metadata": {},
   "source": [
    "### Go over the plots produced by [plot_palettes.py](https://github.com/phaustin/e582/blob/master/cloudmask/plot_palettes.py)"
   ]
  },
  {
   "cell_type": "markdown",
   "metadata": {},
   "source": [
    "1. Read the data in using [get_channels](https://github.com/phaustin/e582/blob/plot_palette/cloudmask/plot_palettes.py#L88-L124)\n",
    "2. Change all the model6 category 6 pixels to category 4 so I can use a [5 color palette](https://github.com/phaustin/e582/blob/plot_palette/cloudmask/plot_palettes.py#L171-L176):\n",
    "3. Use color names https://xkcd.com/color/rgb/ to [mark the 5 cloud categories](https://github.com/phaustin/e582/blob/plot_palette/cloudmask/plot_palettes.py#L182-L188)\n",
    "4. Now look at an ungridded image to check the categories -- note that we need to rotate this particular\n",
    "granule by [180 degrees](https://github.com/phaustin/e582/blob/plot_palette/cloudmask/plot_palettes.py#L193-L204). Also note how I position the labels in the middle of the colorbar"
   ]
  },
  {
   "cell_type": "code",
   "execution_count": null,
   "metadata": {
    "collapsed": false
   },
   "outputs": [],
   "source": [
    "Image('../cloudmask/plots/ungridded_phase_map.png',width=picwidth)"
   ]
  },
  {
   "cell_type": "markdown",
   "metadata": {},
   "source": [
    "###Here is a [histogram of the raw phase values](https://github.com/phaustin/e582/blob/plot_palette/cloudmask/plot_palettes.py#L205-L211)"
   ]
  },
  {
   "cell_type": "code",
   "execution_count": null,
   "metadata": {
    "collapsed": false
   },
   "outputs": [],
   "source": [
    "Image('../cloudmask/plots/ungridded_phase_hist.png',width=picwidth)"
   ]
  },
  {
   "cell_type": "markdown",
   "metadata": {},
   "source": [
    "###Here is the gridded phase map -- [lcc projection](https://github.com/phaustin/e582/blob/plot_palette/cloudmask/plot_palettes.py#L215-L237)"
   ]
  },
  {
   "cell_type": "code",
   "execution_count": null,
   "metadata": {
    "collapsed": false
   },
   "outputs": [],
   "source": [
    "Image('../cloudmask/plots/gridded_phase_map.png',width=picwidth)"
   ]
  },
  {
   "cell_type": "markdown",
   "metadata": {},
   "source": [
    "###Here is the histogram of the [gridded phase values](https://github.com/phaustin/e582/blob/plot_palette/cloudmask/plot_palettes.py#L241-L244).  Note that I use the compressed method for masked array to get the good pixels"
   ]
  },
  {
   "cell_type": "code",
   "execution_count": null,
   "metadata": {
    "collapsed": false
   },
   "outputs": [],
   "source": [
    "Image('../cloudmask/plots/gridded_phase_hist.png',width=picwidth)"
   ]
  },
  {
   "cell_type": "markdown",
   "metadata": {},
   "source": [
    "###Now map the 8-11 [brightness temperature difference](https://github.com/phaustin/e582/blob/master/cloudmask/plot_palettes.py#L245-L265) using a linear segmented palette with 256 colors"
   ]
  },
  {
   "cell_type": "code",
   "execution_count": null,
   "metadata": {
    "collapsed": false
   },
   "outputs": [],
   "source": [
    "Image('../cloudmask/plots/gridded_TBdiff_map.png',width=picwidth)"
   ]
  },
  {
   "cell_type": "markdown",
   "metadata": {},
   "source": [
    "###Next, look at the MYD35 cloud mask using a [discrete four color palette](https://github.com/phaustin/e582/blob/plot_palette/cloudmask/plot_palettes.py#L269-L289) constructed by choosing 4 colors from the coolwarm_r palette.  You can edit this to instead [use four shades of blue](https://github.com/phaustin/e582/blob/plot_palette/cloudmask/plot_palettes.py#L272)"
   ]
  },
  {
   "cell_type": "code",
   "execution_count": null,
   "metadata": {
    "collapsed": false,
    "scrolled": true
   },
   "outputs": [],
   "source": [
    "Image('../cloudmask/plots/mapped_cloudmask.png',width=picwidth)"
   ]
  },
  {
   "cell_type": "markdown",
   "metadata": {
    "collapsed": true
   },
   "source": [
    "###Last, I've added a new cython function: [get_bit](https://github.com/phaustin/e582/blob/plot_palette/cloudmask/bitmap.pyx#L87-L108) which calls [readbit](https://github.com/phaustin/e582/blob/plot_palette/cloudmask/bitmask.cpp#L115-L120) to read an arbitrary bit from a byte.  I use it to read [the high cloud 6.7 micron flag](https://github.com/phaustin/e582/blob/plot_palette/cloudmask/plot_palettes.py#L296-L300) from the [Model 35 cloud mask](http://modis-atmos.gsfc.nasa.gov/_specs/MOD35_L2.CDL.fs)"
   ]
  },
  {
   "cell_type": "code",
   "execution_count": null,
   "metadata": {
    "collapsed": false
   },
   "outputs": [],
   "source": [
    "Image('../cloudmask/plots/map_gridded_bit.png',width=picwidth)"
   ]
  },
  {
   "cell_type": "markdown",
   "metadata": {},
   "source": [
    "###[and here is the histogram](https://github.com/phaustin/e582/blob/plot_palette/cloudmask/plot_palettes.py#L309-L312)"
   ]
  },
  {
   "cell_type": "code",
   "execution_count": null,
   "metadata": {
    "collapsed": false
   },
   "outputs": [],
   "source": [
    "Image('../cloudmask/plots/hist_gridded_bit.png',width=picwidth)"
   ]
  },
  {
   "cell_type": "code",
   "execution_count": null,
   "metadata": {
    "collapsed": true
   },
   "outputs": [],
   "source": []
  }
 ],
 "metadata": {
  "kernelspec": {
   "display_name": "Python 3",
   "language": "python",
   "name": "python3"
  },
  "language_info": {
   "codemirror_mode": {
    "name": "ipython",
    "version": 3
   },
   "file_extension": ".py",
   "mimetype": "text/x-python",
   "name": "python",
   "nbconvert_exporter": "python",
   "pygments_lexer": "ipython3",
   "version": "3.4.3"
  }
 },
 "nbformat": 4,
 "nbformat_minor": 0
}